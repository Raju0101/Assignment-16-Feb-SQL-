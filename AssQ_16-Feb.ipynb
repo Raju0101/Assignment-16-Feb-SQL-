{
 "cells": [
  {
   "cell_type": "markdown",
   "id": "5a9a064d-b918-4251-aa41-87ef653abec8",
   "metadata": {},
   "source": [
    "## Assignment 16-Feb"
   ]
  },
  {
   "cell_type": "code",
   "execution_count": 1,
   "id": "3a38add1-aca9-4c04-bf72-d3f34c80c6a3",
   "metadata": {},
   "outputs": [],
   "source": [
    "# Q1. What is a database? Differentiate between SQL and NoSQL databases?"
   ]
  },
  {
   "cell_type": "code",
   "execution_count": 2,
   "id": "384b4a7e-047a-41b9-b98a-41429342461a",
   "metadata": {},
   "outputs": [],
   "source": [
    "# database:- \n",
    "# database is a collection of information.\n",
    "# A database is an organized collection of structured information, or data, typically stored electronically\n",
    "# in a computer system. A database is usually controlled by a database management system (DBMS)."
   ]
  },
  {
   "cell_type": "code",
   "execution_count": 3,
   "id": "80ff4006-27bf-4532-8c8a-954dea975ec9",
   "metadata": {},
   "outputs": [],
   "source": [
    "# MySQL is a relational database that is based on tabular design whereas NoSQL is non-relational in nature \n",
    "# with its document-based design."
   ]
  },
  {
   "cell_type": "code",
   "execution_count": null,
   "id": "19ced4aa-ef59-4f56-8488-6a078e14009a",
   "metadata": {},
   "outputs": [],
   "source": []
  },
  {
   "cell_type": "code",
   "execution_count": 4,
   "id": "b12d41c9-babf-4650-958c-fbb3d4086f51",
   "metadata": {},
   "outputs": [],
   "source": [
    "# Q2. What is DDL? Explain why CREATE, DROP, ALTER, and TRUNCATE are used with an example."
   ]
  },
  {
   "cell_type": "code",
   "execution_count": 5,
   "id": "1638d697-5c1e-42ba-a6ae-27934dffe7e5",
   "metadata": {},
   "outputs": [],
   "source": [
    "# Data definition language (DDL) describes the portion of SQL that creates, alters, and deletes database objects.\n",
    "\n",
    "# CREATE:-\n",
    "# create command is use to creat the table in database.\n",
    "# The basic syntax of the CREATE TABLE statement is as follows − CREATE TABLE table_name( column1 datatype,\n",
    "# column2 datatype, column3 datatype, ..... columnN datatype, PRIMARY KEY( one or more columns ) );\n",
    "# CREATE TABLE is the keyword telling the database system what you want to do.\n",
    "\n",
    "# DROP:-\n",
    "# The DROP statement destroys the objects like an existing database, table, index, or view.\n",
    "# Syntax: DROP object object_name Examples: DROP TABLE table_name; table_name: Name of the table to be deleted.\n",
    "\n",
    "# ALTER:-\n",
    "# The ALTER TABLE statement is used to add, delete, or modify columns in an existing table.\n",
    "# The ALTER TABLE statement is also used to add and drop various constraints on an existing table\n",
    "\n",
    "# TRUNCATE:- \n",
    "# The SQL TRUNCATE TABLE command is used to delete complete data from an existing table.\n",
    "# TRUNCATE TABLE removes all rows from a table, but the table structure and its columns, constraints, indexes, and so on remain."
   ]
  },
  {
   "cell_type": "code",
   "execution_count": null,
   "id": "7cb9ff2a-04be-4b4f-abc2-1448aea41e02",
   "metadata": {},
   "outputs": [],
   "source": []
  },
  {
   "cell_type": "code",
   "execution_count": 6,
   "id": "9389e7b8-78b6-4c48-8682-27fc46e02cc6",
   "metadata": {},
   "outputs": [],
   "source": [
    "# Q3. What is DML? Explain INSERT, UPDATE, and DELETE with an example."
   ]
  },
  {
   "cell_type": "code",
   "execution_count": 1,
   "id": "274988bf-d3fc-4976-8266-475b4b38abf4",
   "metadata": {},
   "outputs": [],
   "source": [
    "# DML:-\n",
    "# A DML (data manipulation language) refers to a computer programming language that allows us to \n",
    "# add (insert), delete (delete), and alter (update) data in a database. A DML is typically a\n",
    "# sublanguage of a larger database language like SQL.\n",
    "\n",
    "# INSERT:-\n",
    "# we Use the INSERT command to enter data into a table. We may insert one row at a time, or select several \n",
    "# rows from an existing table and insert them all at once. VALUES (\"2222\", \"Raju\", \"Singh\");\n",
    "\n",
    "# UPDATE:-\n",
    "# Update command is a data manipulation command which is used to edit the records of a table.\n",
    "# It may be used to update a single row based on a condition, all rows or set of rows based on the condition given by the user.\n",
    "# syntax: UPDATE table_name SET column_name = value [, column_name = value]... [ WHERE condition ];\n",
    "\n",
    "# DELETE:-\n",
    "# DELETE is a DML(Data Manipulation Language) command and is used when we specify the row(tuple) that\n",
    "# we want to remove or delete from the table or relation.\n",
    "\n"
   ]
  },
  {
   "cell_type": "code",
   "execution_count": null,
   "id": "43a8355c-7855-4de9-946d-b68502e63f20",
   "metadata": {},
   "outputs": [],
   "source": []
  },
  {
   "cell_type": "code",
   "execution_count": 2,
   "id": "8b5ccc7e-4246-43c2-8d43-d0f595852f43",
   "metadata": {},
   "outputs": [],
   "source": [
    "# Q4. What is DQL? Explain SELECT with an example."
   ]
  },
  {
   "cell_type": "code",
   "execution_count": 3,
   "id": "2c25bee7-c78c-48d0-98a6-2ae58c83e08d",
   "metadata": {},
   "outputs": [],
   "source": [
    "# DQL:-\n",
    "# DQL(Data Query Language) is a portion of a SQL statement that allows us to get and organise data from a database. \n",
    "# We can use the SELECT command to extract data from a database.\n",
    "\n",
    "# A DQL SELECT statement retrieves records from a database table according to clauses (for example, FROM and WHERE ) that specify criteria. \n",
    "# The syntax is: SELECT column1, column2 FROM table1, table2 WHERE column2='value';"
   ]
  },
  {
   "cell_type": "code",
   "execution_count": null,
   "id": "e2940327-57d1-4d0f-a0b6-3ca336ee5a9e",
   "metadata": {},
   "outputs": [],
   "source": []
  },
  {
   "cell_type": "code",
   "execution_count": 4,
   "id": "a6d106b9-0328-4f7e-a2a5-a4336524017c",
   "metadata": {},
   "outputs": [],
   "source": [
    "# Q5. Explain Primary Key and Foreign Key."
   ]
  },
  {
   "cell_type": "code",
   "execution_count": 5,
   "id": "41f19652-1c7b-4687-b896-05f413992bca",
   "metadata": {},
   "outputs": [],
   "source": [
    "# Primary key:-\n",
    "# A primary key is used to ensure data in the specific column is unique. \n",
    "# A primary key is the column or columns that contain values that uniquely identify each row in a table.\n",
    "# A database table must have a primary key for Optim to insert, update,restore, or delete data from a database table\n",
    "\n",
    "# Foreign Key:-\n",
    "# A foreign key is a column or group of columns in a relational database.\n",
    "# A foreign key is a column or columns of data in one table that refers to the unique data values \n",
    "# often the primary key data , in another table. Foreign keys link together two or more tables in a relational database."
   ]
  },
  {
   "cell_type": "code",
   "execution_count": null,
   "id": "a28e9291-89b2-4826-a8d1-fc1b3be63d43",
   "metadata": {},
   "outputs": [],
   "source": []
  },
  {
   "cell_type": "code",
   "execution_count": 6,
   "id": "4c81dbfe-2843-41e5-a6d4-9aab20893430",
   "metadata": {},
   "outputs": [],
   "source": [
    "# Q6. Write a python code to connect MySQL to python. Explain the cursor() and execute() method."
   ]
  },
  {
   "cell_type": "code",
   "execution_count": null,
   "id": "dbe85ba1-03ce-45bf-9dde-6e668b1029d4",
   "metadata": {},
   "outputs": [],
   "source": [
    "import mysql.connector\n",
    "\n",
    "mydb = mysql.connector.connect(\n",
    "    host = \"host\",\n",
    "    user = \"username\",\n",
    "    password = \"password\"\n",
    ")\n",
    "print(mydb)"
   ]
  },
  {
   "cell_type": "code",
   "execution_count": 10,
   "id": "5f3ce67a-719a-40f7-8c80-ec8fef92a2ee",
   "metadata": {},
   "outputs": [],
   "source": [
    "# Cursor() Method:-\n",
    "# Cursor is a Temporary Memory or Temporary Work Station. It is Allocated by Database Server at the Time of \n",
    "# Performing DML(Data Manipulation Language) operations on Table by User. Cursors are used to store Database Tables.\n",
    "\n",
    "# Execute() Method:-\n",
    "# The EXEC command is used to execute a stored procedure.\n",
    "# The Execute method executes a specified query, SQL statement, stored procedure, or provider-specific text.\n",
    "# The results are stored in a new Recordset object if it is a row-returning query. A closed Recordset object will be\n",
    "# returned if it is not a row-returning query."
   ]
  },
  {
   "cell_type": "code",
   "execution_count": null,
   "id": "7c69df52-93f3-4c58-97ee-c0f60cb82627",
   "metadata": {},
   "outputs": [],
   "source": []
  },
  {
   "cell_type": "code",
   "execution_count": null,
   "id": "f7d8b152-050a-4735-a749-9ae7e72f3682",
   "metadata": {},
   "outputs": [],
   "source": [
    "# Q7. Give the order of execution of SQL clauses in an SQL query."
   ]
  },
  {
   "cell_type": "code",
   "execution_count": null,
   "id": "88609650-5290-4bfc-b714-2a3bdb78277b",
   "metadata": {},
   "outputs": [],
   "source": [
    "# 1. FROM/JOIN: The FROM and/or JOIN clauses are executed first to determine the data of interest.\n",
    "\n",
    "# 2. WHERE: The WHERE clause is executed to filter out records that do not meet the constraints.\n",
    "\n",
    "# 3. GROUP BY: The GROUP BY clause is executed to group the data based on the values in one or more columns.\n",
    "\n",
    "# 4. HAVING: The HAVING clause is executed to remove the created grouped records that don’t meet the constraints.\n",
    "\n",
    "# 5. SELECT: The SELECT clause is executed to derive all desired columns and expressions.\n",
    "\n",
    "# 6. ORDER BY: The ORDER BY clause is executed to sort the derived values in ascending or descending order.\n",
    "\n",
    "# 7. LIMIT/OFFSET: Finally, the LIMIT and/or OFFSET clauses are executed to keep or skip a specified number of rows.\n",
    "\n"
   ]
  }
 ],
 "metadata": {
  "kernelspec": {
   "display_name": "Python 3 (ipykernel)",
   "language": "python",
   "name": "python3"
  },
  "language_info": {
   "codemirror_mode": {
    "name": "ipython",
    "version": 3
   },
   "file_extension": ".py",
   "mimetype": "text/x-python",
   "name": "python",
   "nbconvert_exporter": "python",
   "pygments_lexer": "ipython3",
   "version": "3.10.8"
  }
 },
 "nbformat": 4,
 "nbformat_minor": 5
}
